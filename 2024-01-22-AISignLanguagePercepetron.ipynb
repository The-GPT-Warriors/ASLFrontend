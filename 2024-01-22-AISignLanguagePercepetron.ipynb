{
 "cells": [
  {
   "cell_type": "markdown",
   "metadata": {
    "vscode": {
     "languageId": "java"
    }
   },
   "source": [
    "---\n",
    "toc: true\n",
    "comments: true\n",
    "layout: post\n",
    "title: Sign Language in AI\n",
    "description: An explanation of how we used AI to understand sign language.\n",
    "courses: { csa: {week: 19} }\n",
    "type: hacks\n",
    "---"
   ]
  },
  {
   "cell_type": "markdown",
   "metadata": {},
   "source": [
    "# Percepetrons\n",
    "Most basic uses of AI have three distinct sections. The input, the weights, and the output. For our project we decided to use a percepetron because of its simplicity and the fact that java doesn't have alot of the same AI functionality as some other programming languages like python's pytorch and so forth. So in order to get around this issue I used the simplicist method I could of setting up 24 (not the normal 26 because j and z can't be signed)"
   ]
  }
 ],
 "metadata": {
  "kernelspec": {
   "display_name": "Java",
   "language": "java",
   "name": "java"
  },
  "language_info": {
   "codemirror_mode": "java",
   "file_extension": ".jshell",
   "mimetype": "text/x-java-source",
   "name": "Java",
   "pygments_lexer": "java",
   "version": "20.0.2+9-78"
  },
  "orig_nbformat": 4
 },
 "nbformat": 4,
 "nbformat_minor": 2
}
