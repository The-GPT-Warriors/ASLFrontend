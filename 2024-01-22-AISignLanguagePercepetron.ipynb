{
 "cells": [
  {
   "cell_type": "markdown",
   "metadata": {
    "vscode": {
     "languageId": "java"
    }
   },
   "source": [
    "---\n",
    "toc: true\n",
    "comments: true\n",
    "layout: post\n",
    "title: Sign Language in AI\n",
    "description: An explanation of how we used AI to understand sign language.\n",
    "courses: { csa: {week: 19} }\n",
    "type: hacks\n",
    "---"
   ]
  },
  {
   "cell_type": "markdown",
   "metadata": {},
   "source": [
    "# Percepetrons\n",
    "\n",
    "Most basic uses of AI have three distinct sections. The input, the weights, and the output. For our project we decided to use a percepetron because of its simplicity and the fact that java doesn't have alot of the same AI functionality as some other programming languages like python's pytorch and so forth. So in order to get around this issue I used the simplicist method I could, setting up 24 (not the normal 26 because j and z can't be signed) percepetrons each representing and holding individual weights for each letter of the alphabet. Each of these percepetrons are then trained on 28*28 greyscaled images to increase contrast between the hand and the background to help the network create stronger weights and train better.\n",
    "\n",
    "##### Some examples of the images we trained on:\n",
    "\n",
    "<img width=\"140\" alt=\"Screenshot 2024-01-22 at 9 00 21 AM\" src=\"https://github.com/Ant11234/BazhRepo/assets/40652645/9820c478-e7f1-43e1-9319-dad2c2e1cbee\">\n",
    "<img width=\"140\" alt=\"Screenshot 2024-01-22 at 9 00 32 AM\" src=\"https://github.com/Ant11234/BazhRepo/assets/40652645/ac3a4a66-a5cc-4a14-b3bc-b377f53b82b0\">\n",
    "<img width=\"140\" alt=\"Screenshot 2024-01-22 at 9 00 41 AM\" src=\"https://github.com/Ant11234/BazhRepo/assets/40652645/b115e3ea-560c-4c9d-a8c5-41c2891d8a10\">\n",
    "<img width=\"140\" alt=\"Screenshot 2024-01-22 at 9 00 13 AM\" src=\"https://github.com/Ant11234/BazhRepo/assets/40652645/763d7e0f-f7d3-45ad-bfd6-5cc8a0d944ff\">\n",
    "<img width=\"140\" alt=\"Screenshot 2024-01-22 at 9 01 14 AM\" src=\"https://github.com/Ant11234/BazhRepo/assets/40652645/76fd1846-b655-4fa7-9b0c-33eb5ec6668b\">\n"
   ]
  },
  {
   "cell_type": "markdown",
   "metadata": {},
   "source": [
    "##### Corrosponding Image and Letter\n",
    "\n",
    "\n",
    "<img width=\"140\" alt=\"Screenshot 2024-01-23 at 8 44 54 AM\" src=\"https://github.com/Ant11234/BazhRepo/assets/40652645/f475b4c1-815b-46c8-bae6-568498867267\">\n",
    "<img width=\"140\" alt=\"Screenshot 2024-01-23 at 8 46 00 AM\" src=\"https://github.com/Ant11234/BazhRepo/assets/40652645/098be69f-e17f-46e5-9740-ba14cd880d1a\">\n",
    "<img width=\"140\" alt=\"Screenshot 2024-01-23 at 8 45 15 AM\" src=\"https://github.com/Ant11234/BazhRepo/assets/40652645/a8a29816-730c-47d0-a5d1-9a07139f1861\">\n",
    "<img width=\"140\" alt=\"Screenshot 2024-01-23 at 8 45 06 AM\" src=\"https://github.com/Ant11234/BazhRepo/assets/40652645/e4e5bc24-14d6-4ec9-aab0-46b110741ed5\">\n",
    "<img width=\"140\" alt=\"Screenshot 2024-01-23 at 8 45 29 AM\" src=\"https://github.com/Ant11234/BazhRepo/assets/40652645/5470052e-9cf5-40dd-8d25-044512683719\">\n",
    "\n"
   ]
  },
  {
   "cell_type": "markdown",
   "metadata": {},
   "source": [
    "### Our algorithem when tested on these Images"
   ]
  }
 ],
 "metadata": {
  "kernelspec": {
   "display_name": "Java",
   "language": "java",
   "name": "java"
  },
  "language_info": {
   "codemirror_mode": "java",
   "file_extension": ".jshell",
   "mimetype": "text/x-java-source",
   "name": "Java",
   "pygments_lexer": "java",
   "version": "20.0.2+9-78"
  },
  "orig_nbformat": 4
 },
 "nbformat": 4,
 "nbformat_minor": 2
}
